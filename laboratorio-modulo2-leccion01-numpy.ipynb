{
 "cells": [
  {
   "cell_type": "markdown",
   "id": "6db588db",
   "metadata": {},
   "source": [
    "<div style=\"text-align: center;\">\n",
    "  <img src=\"https://github.com/Hack-io-Data/Imagenes/blob/main/01-LogosHackio/logo_naranja@4x.png?raw=true\" alt=\"esquema\" />\n",
    "</div>"
   ]
  },
  {
   "cell_type": "code",
   "execution_count": 2,
   "id": "11d3f85f",
   "metadata": {},
   "outputs": [],
   "source": [
    "import os"
   ]
  },
  {
   "cell_type": "code",
   "execution_count": 4,
   "id": "64ff9293",
   "metadata": {},
   "outputs": [
    {
     "data": {
      "text/plain": [
       "['laboratorio-modulo2-leccion01-numpy.ipynb',\n",
       " 'laboratorio-modulo2-leccion05-limpieza.ipynb',\n",
       " 'laboratorio-modulo2-leccion04-visualizacion.ipynb',\n",
       " 'laboratorio-modulo2-leccion03-groupby.ipynb',\n",
       " 'laboratorio-modulo2-leccion02-eda-union.ipynb',\n",
       " 'laboratorio-modulo2-leccion03-filtrado.ipynb']"
      ]
     },
     "execution_count": 4,
     "metadata": {},
     "output_type": "execute_result"
    }
   ],
   "source": [
    "datos = os.listdir()\n",
    "datos"
   ]
  },
  {
   "cell_type": "code",
   "execution_count": null,
   "id": "74e36252",
   "metadata": {},
   "outputs": [],
   "source": [
    "diccioanrio_df = {diccioanrio_df[re.findall(\"\\d{4}\", i)[0]] : pd.read_csv(f\"..dato/{i}\") for i in datos}\n",
    "\n",
    "diccioanrio_df = {}\n",
    "for i in datos:\n",
    "    df = pd.read_csv(i)\n",
    "    diccioanrio_df[i.spl]\n"
   ]
  },
  {
   "cell_type": "markdown",
   "id": "11308d6c",
   "metadata": {},
   "source": [
    "for i in datos\n",
    "# Laboratorio de NumPy"
   ]
  },
  {
   "cell_type": "markdown",
   "id": "a19d4596",
   "metadata": {},
   "source": [
    "#### Ejercicio 1 - Crea un array de 1D con los números del 0 al 9."
   ]
  },
  {
   "cell_type": "code",
   "execution_count": 4,
   "id": "9d4e1d42",
   "metadata": {},
   "outputs": [
    {
     "name": "stdout",
     "output_type": "stream",
     "text": [
      "[0 1 2 3 4 5 6 7 8 9]\n"
     ]
    }
   ],
   "source": [
    "import numpy as np\n",
    "\n",
    "array_1D = np.array([0, 1, 2, 3, 4, 5, 6, 7, 8, 9])\n",
    "\n",
    "print(array_1D)"
   ]
  },
  {
   "cell_type": "markdown",
   "id": "f4a41f16",
   "metadata": {},
   "source": [
    "#### Ejercicio 2 - Convierte un array 1D en un array 2D con 2 filas y 5 columnas."
   ]
  },
  {
   "cell_type": "code",
   "execution_count": 5,
   "id": "3d7cef3c",
   "metadata": {},
   "outputs": [
    {
     "name": "stdout",
     "output_type": "stream",
     "text": [
      "[[0 1 2 3 4]\n",
      " [5 6 7 8 9]]\n"
     ]
    }
   ],
   "source": [
    "array_2D = array_1D.reshape(2,5)\n",
    "\n",
    "print(array_2D)"
   ]
  },
  {
   "cell_type": "markdown",
   "id": "86bb8999",
   "metadata": {},
   "source": [
    "#### Ejercicio 3 - Encuentra los índices de los elementos con valor distinto de 0 en el siguiente array: [0, 2, 0, 3, 0, 4, 0]."
   ]
  },
  {
   "cell_type": "code",
   "execution_count": null,
   "id": "d1fcfca4",
   "metadata": {},
   "outputs": [
    {
     "name": "stdout",
     "output_type": "stream",
     "text": [
      "Indeces distintos de 0: [1, 3, 4]\n"
     ]
    }
   ],
   "source": [
    "array_num = np.array([0,2,0,3,4,0])\n",
    "\n",
    "indices_noceros = []\n",
    "indice = 0\n",
    "\n",
    "for num in array_num:\n",
    "    if num != 0:\n",
    "        indices_noceros.append(indice)\n",
    "    indice += 1 #Importante sumar fuera del for porque sino no muestra bien los indices!\n",
    "\n",
    "print(f\"Indeces distintos de 0: {indices_noceros}\")"
   ]
  },
  {
   "cell_type": "markdown",
   "id": "1c548419",
   "metadata": {},
   "source": [
    "#### Ejercicio 4 - Crea un array 3x3 con valores aleatorios entre 0 y 1."
   ]
  },
  {
   "cell_type": "code",
   "execution_count": 15,
   "id": "e1d4f19f",
   "metadata": {},
   "outputs": [
    {
     "name": "stdout",
     "output_type": "stream",
     "text": [
      "[[0.66112324 0.30648031 0.25316919]\n",
      " [0.31459423 0.77588626 0.37265266]\n",
      " [0.62369948 0.37154903 0.19987247]]\n"
     ]
    }
   ],
   "source": [
    "array_random = np.random.rand(3, 3)\n",
    "\n",
    "print(array_random)"
   ]
  },
  {
   "cell_type": "markdown",
   "id": "aee82811",
   "metadata": {},
   "source": [
    "#### Ejercicio 5 - Crea un array de 10 números aleatorios y encuentra el valor máximo y mínimo."
   ]
  },
  {
   "cell_type": "code",
   "execution_count": 23,
   "id": "81fea76e",
   "metadata": {},
   "outputs": [
    {
     "name": "stdout",
     "output_type": "stream",
     "text": [
      "[[3 7 3]\n",
      " [5 2 8]\n",
      " [9 6 4]]\n",
      "Valor máximo: 9\n"
     ]
    }
   ],
   "source": [
    "array_random_10 = np.random.randint(0, 11, (3,3))\n",
    "\n",
    "maximo = np.max(array_random_10)\n",
    "\n",
    "\n",
    "print(array_random_10)\n",
    "print(f\"Valor máximo: {maximo}\")\n"
   ]
  },
  {
   "cell_type": "markdown",
   "id": "6559375b",
   "metadata": {},
   "source": [
    "#### Ejercicio 6 - Crea un array de una dimensión e inviértelo. "
   ]
  },
  {
   "cell_type": "code",
   "execution_count": 30,
   "id": "31385db0",
   "metadata": {},
   "outputs": [
    {
     "name": "stdout",
     "output_type": "stream",
     "text": [
      "[9 8 7 6 5 4 3 2 1 0]\n"
     ]
    }
   ],
   "source": [
    "array_orden = np.array([0, 1, 2, 3, 4, 5, 6, 7, 8, 9])\n",
    "array_orden_inv = -np.sort(-array_orden)\n",
    "\n",
    "print(array_orden_inv)\n",
    "\n",
    "\n"
   ]
  },
  {
   "cell_type": "markdown",
   "id": "4457f046",
   "metadata": {},
   "source": [
    "\n",
    "#### Ejercicio 6 - Genera un array tridimensional de dimensiones (2, 3, 4) con valores enteros del 1 al 24.\n",
    "\n",
    "- Selecciona el primer `15` del array.\n",
    "\n",
    "- Selecciona todos los elementos del primer array. \n",
    "\n",
    "- Selecciona la última fila del último array\n"
   ]
  },
  {
   "cell_type": "code",
   "execution_count": 67,
   "id": "3cab04c9",
   "metadata": {},
   "outputs": [
    {
     "name": "stdout",
     "output_type": "stream",
     "text": [
      "[[[10 20  8 15]\n",
      "  [11  9 12 13]\n",
      "  [ 2  9 20 11]]\n",
      "\n",
      " [[16  9 12  6]\n",
      "  [20 20  1 20]\n",
      "  [ 8 18 22  1]]]\n",
      "\n",
      "Se encontro el valor 15 en los siguientes indices: (array([0]), array([0]), array([3]))\n",
      "El primer 15 se encuentra en la lista: 1, fila: 1 y columna 4\n",
      "\n",
      "Todos los elementos del primer array:\n",
      "[[10 20  8 15]\n",
      " [11  9 12 13]\n",
      " [ 2  9 20 11]]\n",
      "\n",
      "La última fila del último array:\n",
      " [ 8 18 22  1]\n"
     ]
    }
   ],
   "source": [
    "array_n = np.random.randint(1,25, (2,3,4), int)\n",
    "\n",
    "print(array_n)\n",
    "\n",
    "result_15 = np.where(array_n == 15)\n",
    "if result_15[0].size > 0:\n",
    "    print(f\"\\nSe encontro el valor 15 en los siguientes indices: {result_15}\")\n",
    "    print(f\"El primer 15 se encuentra en la lista: {result_15[0][0]+1}, fila: {result_15[1][0]+1} y columna {result_15[2][0]+1}\")\n",
    "else:\n",
    "    print(\"\\nNo hay ningún valor 15\")\n",
    "\n",
    "print(f\"\\nTodos los elementos del primer array:\\n{array_n[0]}\")\n",
    "print(f\"\\nLa última fila del último array:\\n {array_n[-1, -1]}\")"
   ]
  },
  {
   "cell_type": "markdown",
   "id": "681b7e4e",
   "metadata": {},
   "source": [
    "\n",
    "#### Ejercicio 7 - Genera un array tridimensional de dimensiones (3, 2, 5) con valores enteros del 1 al 30.\n",
    "\n",
    "- Selecciona el subarray que contiene los dos primeros elementos de cada fila del primer array.\n",
    "\n",
    "- Selecciona el subarray que contiene todas las filas de los dos últimos arrays.\n"
   ]
  },
  {
   "cell_type": "code",
   "execution_count": null,
   "id": "b008a9aa",
   "metadata": {},
   "outputs": [
    {
     "name": "stdout",
     "output_type": "stream",
     "text": [
      "[[[19  4 16 23 18]\n",
      "  [ 3 30 24  8 22]]\n",
      "\n",
      " [[30 30 13 18 27]\n",
      "  [18 10 25 17  4]]\n",
      "\n",
      " [[16  8 27  2  3]\n",
      "  [27  1 16 11 29]]]\n",
      "\n",
      "Subarray que contiene los dos primeros elementos de cada fila del primer array:\n",
      " [[19  4]\n",
      " [ 3 30]]\n",
      "\n",
      "Subarray de todas las filas de los dos últimos arrays:\n",
      " [[[30 30 13 18 27]\n",
      "  [18 10 25 17  4]]\n",
      "\n",
      " [[16  8 27  2  3]\n",
      "  [27  1 16 11 29]]]\n"
     ]
    }
   ],
   "source": [
    "array_tri = np.random.randint(1,31, (3,2,5), int)\n",
    "\n",
    "print(array_tri)\n",
    "\n",
    "print(f\"\\nSubarray que contiene los dos primeros elementos de cada fila del primer array:\\n {array_tri[0 , : , : 2 ]}\") \n",
    "#Primer array ([ 0 )\n",
    "# De las filas --> todas ( , : )\n",
    "# De las columnas --> los dos primeros ( , : 2]) \n",
    "\n",
    "print(f\"\\nSubarray de todas las filas de los dos últimos arrays:\\n {array_tri[-2 : , : , :]}\")\n",
    "# Empezando por el final, desde el último hasta el penúltimo (últimos dos) --> ([ -2 : ,)\n",
    "# De las filas --> todas ( : ,) \n",
    "# De las columnas --> todas ( : ])"
   ]
  },
  {
   "cell_type": "markdown",
   "id": "4fabd9d0",
   "metadata": {},
   "source": [
    "#### Ejercicio 8 - Genera un array tridimensional de dimensiones (4, 3, 2) con valores enteros del 1 al 24.\n",
    "\n",
    "- Cambia todos los elementos de la segunda fila del segundo array por `0`.\n",
    "\n",
    "- Cambia todos los valores del último array a `-1`.\n"
   ]
  },
  {
   "cell_type": "code",
   "execution_count": 79,
   "id": "0ef45b69",
   "metadata": {},
   "outputs": [
    {
     "name": "stdout",
     "output_type": "stream",
     "text": [
      "Array generado:\n",
      "[[[13 19]\n",
      "  [ 8 15]\n",
      "  [23 10]]\n",
      "\n",
      " [[14  4]\n",
      "  [15  5]\n",
      "  [20  8]]\n",
      "\n",
      " [[ 8 23]\n",
      "  [18 17]\n",
      "  [12  9]]\n",
      "\n",
      " [[24  9]\n",
      "  [ 3  2]\n",
      "  [ 2  6]]]\n",
      "\n",
      "Array con ceros:\n",
      "[[[13 19]\n",
      "  [ 8 15]\n",
      "  [23 10]]\n",
      "\n",
      " [[ 0  0]\n",
      "  [ 0  0]\n",
      "  [ 0  0]]\n",
      "\n",
      " [[ 8 23]\n",
      "  [18 17]\n",
      "  [12  9]]\n",
      "\n",
      " [[24  9]\n",
      "  [ 3  2]\n",
      "  [ 2  6]]]\n",
      "\n",
      "Array con -1:\n",
      "[[[13 19]\n",
      "  [ 8 15]\n",
      "  [23 10]]\n",
      "\n",
      " [[ 0  0]\n",
      "  [ 0  0]\n",
      "  [ 0  0]]\n",
      "\n",
      " [[ 8 23]\n",
      "  [18 17]\n",
      "  [12  9]]\n",
      "\n",
      " [[-1 -1]\n",
      "  [-1 -1]\n",
      "  [-1 -1]]]\n"
     ]
    }
   ],
   "source": [
    "array_tri_2 = np.random.randint(1,25, (4,3,2), int)\n",
    "print(\"Array generado:\")\n",
    "print(array_tri_2)\n",
    "\n",
    "array_tri_2[ 1 , : , : ] = 0\n",
    "print(\"\\nArray con ceros:\")\n",
    "print(array_tri_2)\n",
    "\n",
    "array_tri_2[-1] = -1\n",
    "print(\"\\nArray con -1:\")\n",
    "print(array_tri_2)"
   ]
  },
  {
   "cell_type": "markdown",
   "id": "c60bc3bb",
   "metadata": {},
   "source": [
    "\n",
    "#### Ejercicio 9 - Genera un array tridimensional de dimensiones (2, 4, 3) con valores enteros del -10 al 13.\n",
    "\n",
    "- Selecciona todos los elementos mayores a `5`.\n",
    "\n",
    "- Reemplaza todos los elementos negativos por `0`.\n"
   ]
  },
  {
   "cell_type": "code",
   "execution_count": 145,
   "id": "28bf9232",
   "metadata": {},
   "outputs": [
    {
     "name": "stdout",
     "output_type": "stream",
     "text": [
      "Array generado:\n",
      "[[[ 7 13  7]\n",
      "  [13  9  2]\n",
      "  [ 0  6  2]\n",
      "  [ 8 10 11]]\n",
      "\n",
      " [[-3  2  6]\n",
      "  [ 7 13 -7]\n",
      "  [13  3 -1]\n",
      "  [13 10  4]]]\n",
      "\n",
      "Array con filtrado num > 5:\n",
      "[ 7 13  7 13  9  6  8 10 11  6  7 13 13 13 10]\n",
      "\n",
      "Negativos a 0:\n",
      " [[[ 7 13  7]\n",
      "  [13  9  2]\n",
      "  [ 0  6  2]\n",
      "  [ 8 10 11]]\n",
      "\n",
      " [[ 0  2  6]\n",
      "  [ 7 13  0]\n",
      "  [13  3  0]\n",
      "  [13 10  4]]]\n"
     ]
    }
   ],
   "source": [
    "array_tri_negativo = np.random.randint(-10,14, (2,4,3), int)\n",
    "print(\"Array generado:\")\n",
    "print(array_tri_negativo)\n",
    "\n",
    "mascara = array_tri_negativo > 5\n",
    "elementos_filtrados = array_tri_negativo[mascara]\n",
    "\n",
    "if elementos_filtrados.size > 0:\n",
    "    print(\"\\nArray con filtrado num > 5:\")\n",
    "    print(elementos_filtrados)\n",
    "else:\n",
    "    print(\"No hay elementos > 5\")\n",
    "\n",
    "\n",
    "mascara_2 = array_tri_negativo < 0\n",
    "array_tri_negativo[mascara_2] = 0\n",
    "print(f\"\\nNegativos a 0:\\n {array_tri_negativo}\")\n"
   ]
  },
  {
   "cell_type": "markdown",
   "id": "ab38a3be",
   "metadata": {},
   "source": [
    "#### Ejercicio 10 - Genera un array tridimensional de dimensiones (3, 3, 3) con valores enteros del 1 al 27.\n",
    "\n",
    "- Selecciona el subarray del segundo array que contenga solo las dos primeras columnas.\n",
    "\n",
    "- Selecciona todos los elementos del tercer array que sean mayores que `20`.\n"
   ]
  },
  {
   "cell_type": "code",
   "execution_count": null,
   "id": "78c979cf",
   "metadata": {},
   "outputs": [
    {
     "name": "stdout",
     "output_type": "stream",
     "text": [
      "[[[ 9 20 19]\n",
      "  [19  4 18]\n",
      "  [19 21  7]]\n",
      "\n",
      " [[19 13 25]\n",
      "  [21  3 14]\n",
      "  [ 5 25  2]]\n",
      "\n",
      " [[21  1 11]\n",
      "  [12 12  1]\n",
      "  [19 14 13]]]\n",
      "\n",
      "Subarray del segundo array de las dos primeras columnas:\n",
      " [[19 13]\n",
      " [21  3]\n",
      " [ 5 25]]\n",
      "\n",
      "Todos los elementos del tercer array que sean mayores que 20:\n",
      " [21]\n"
     ]
    }
   ],
   "source": [
    "array_tri_3 = np.random.randint(1,28, (3,3,3,), int)\n",
    "print(array_tri_3)\n",
    "\n",
    "print(f\"\\nSubarray del segundo array de las dos primeras columnas:\\n {array_tri_3[1, : , :2]}\")\n",
    "\n",
    "mascara_20 = array_tri_3[2 , : , :] > 20\n",
    "\n",
    "print(f\"\\nTodos los elementos del tercer array que son mayores que 20:\\n {array_tri_3[2][mascara_20]}\")"
   ]
  },
  {
   "cell_type": "markdown",
   "id": "f1a00156",
   "metadata": {},
   "source": [
    "#### Ejercicio 11 - Crea un array de 10 números aleatorios y reemplaza los valores máximos y mínimos por 0."
   ]
  },
  {
   "cell_type": "code",
   "execution_count": null,
   "id": "990fa526",
   "metadata": {},
   "outputs": [
    {
     "name": "stdout",
     "output_type": "stream",
     "text": [
      "[[4 7 9 2 4]\n",
      " [0 0 9 9 2]]\n",
      "El MAXIMO es: 7\n",
      "El MINIMO es: 0\n"
     ]
    },
    {
     "ename": "TypeError",
     "evalue": "'numpy.int32' object does not support item assignment",
     "output_type": "error",
     "traceback": [
      "\u001b[1;31m---------------------------------------------------------------------------\u001b[0m",
      "\u001b[1;31mTypeError\u001b[0m                                 Traceback (most recent call last)",
      "Cell \u001b[1;32mIn[160], line 24\u001b[0m\n\u001b[0;32m     22\u001b[0m         array_random_diez[contador_array][contador_fila][contador_columna] \u001b[38;5;241m=\u001b[39m \u001b[38;5;241m0\u001b[39m\n\u001b[0;32m     23\u001b[0m     \u001b[38;5;28;01mif\u001b[39;00m valor \u001b[38;5;241m==\u001b[39m minimo:\n\u001b[1;32m---> 24\u001b[0m         \u001b[43marray_random_diez\u001b[49m\u001b[43m[\u001b[49m\u001b[43mcontador_array\u001b[49m\u001b[43m]\u001b[49m\u001b[43m[\u001b[49m\u001b[43mcontador_fila\u001b[49m\u001b[43m]\u001b[49m\u001b[43m[\u001b[49m\u001b[43mcontador_columna\u001b[49m\u001b[43m]\u001b[49m \u001b[38;5;241m=\u001b[39m \u001b[38;5;241m0\u001b[39m\n\u001b[0;32m     25\u001b[0m     columna \u001b[38;5;241m+\u001b[39m\u001b[38;5;241m=\u001b[39m \u001b[38;5;241m1\u001b[39m\n\u001b[0;32m     26\u001b[0m fila \u001b[38;5;241m+\u001b[39m\u001b[38;5;241m=\u001b[39m\u001b[38;5;241m1\u001b[39m\n",
      "\u001b[1;31mTypeError\u001b[0m: 'numpy.int32' object does not support item assignment"
     ]
    }
   ],
   "source": [
    "array_random_diez = np.random.randint(0, 10, (2,5))\n",
    "\n",
    "print(array_random_10)\n",
    "\n",
    "maximo = np.max(array_random_diez)\n",
    "print(f\"El MAXIMO es: {maximo}\")\n",
    "\n",
    "minimo = np.min(array_random_diez)\n",
    "print(f\"El MINIMO es: {minimo}\")\n",
    "\n",
    "\n",
    "contador_array = 0\n",
    "contador_fila = 0\n",
    "contador_columna = 0\n",
    "\n",
    "# Nose como solucionarlo :(\n",
    "\n",
    "for array in array_random_diez:\n",
    "    fila = 0\n",
    "    for fila in array:\n",
    "        columna = 0\n",
    "        for valor in array:\n",
    "            if valor == maximo:\n",
    "                array_random_diez[contador_array][contador_fila][contador_columna] = 0\n",
    "            if valor == minimo:\n",
    "                array_random_diez[contador_array][contador_fila][contador_columna] = 0\n",
    "            columna += 1\n",
    "        fila +=1\n",
    "    array += 1\n",
    "\n",
    "print(array_random_diez)"
   ]
  },
  {
   "cell_type": "markdown",
   "id": "781fafd0",
   "metadata": {},
   "source": [
    "#### Ejercicio 12 - Genera un array de 15 números aleatorios enteros entre 1 y 100 y reordénalo en orden ascendente."
   ]
  },
  {
   "cell_type": "code",
   "execution_count": null,
   "id": "caa4fd47",
   "metadata": {},
   "outputs": [],
   "source": []
  },
  {
   "cell_type": "markdown",
   "id": "45f10c3e",
   "metadata": {},
   "source": [
    "#### Ejercicio 11 - Calcula la suma de los elementos a lo largo de las filas y columnas en una matriz 4x4."
   ]
  },
  {
   "cell_type": "code",
   "execution_count": null,
   "id": "90220788",
   "metadata": {},
   "outputs": [],
   "source": []
  },
  {
   "cell_type": "markdown",
   "id": "69b9751a",
   "metadata": {},
   "source": [
    "#### Ejercicio 12 - Crea una matriz de 5x5 con valores en el borde igual a 1 y en el interior igual a 0."
   ]
  },
  {
   "cell_type": "code",
   "execution_count": null,
   "id": "eca81323",
   "metadata": {},
   "outputs": [],
   "source": []
  },
  {
   "cell_type": "markdown",
   "id": "1ea8068d",
   "metadata": {},
   "source": [
    "#### Ejercicio 13 - Calcula la media y la desviación estándar de un array de 10 números aleatorios."
   ]
  },
  {
   "cell_type": "code",
   "execution_count": null,
   "id": "05dd579d",
   "metadata": {},
   "outputs": [],
   "source": []
  },
  {
   "cell_type": "markdown",
   "id": "6add6669",
   "metadata": {},
   "source": [
    "#### Ejercicio 14 - Genera un array tridimensional de dimensiones (2, 3, 4) con valores enteros del 1 al 24.\n",
    "\n",
    "- Transpón el array para intercambiar los ejes de la forma (2, 3, 4) a (4, 3, 2).\n",
    "\n",
    "- Observa cómo cambian las posiciones de los elementos y sus índices después de la transposición. Explica en una celda de markdown que es lo que ha pasado. \n"
   ]
  },
  {
   "cell_type": "code",
   "execution_count": null,
   "id": "ae98aca5",
   "metadata": {},
   "outputs": [],
   "source": []
  },
  {
   "cell_type": "markdown",
   "id": "1e32b5e6",
   "metadata": {},
   "source": [
    "#### Ejercicio 15 - Genera un array tridimensional de dimensiones (3, 4, 2) con valores enteros del 1 al 24.\n",
    "\n",
    "- Transpón el array para intercambiar el primer y segundo eje, de manera que la nueva forma del array sea (4, 3, 2).\n"
   ]
  },
  {
   "cell_type": "code",
   "execution_count": null,
   "id": "0146fdd6",
   "metadata": {},
   "outputs": [],
   "source": []
  },
  {
   "cell_type": "markdown",
   "id": "fcf92586",
   "metadata": {},
   "source": [
    "#### Ejercicio 16 - Genera un array tridimensional de dimensiones (3, 2, 4) con valores enteros del 1 al 24.\n",
    "\n",
    "- Realiza una rotación completa de los ejes para convertir la forma original (3, 2, 4) en (4, 3, 2).\n"
   ]
  },
  {
   "cell_type": "code",
   "execution_count": null,
   "id": "dd2c7f27",
   "metadata": {},
   "outputs": [],
   "source": []
  },
  {
   "cell_type": "markdown",
   "id": "1795e11f",
   "metadata": {},
   "source": [
    "#### Ejercicio 17 - Manipulación de Arrays en 3D\n",
    "\n",
    "- Crea un array tridimensional con dimensiones (3, 4, 5) cuyos elementos sean números enteros aleatorios entre -10 y 10.\n",
    "\n",
    "- Crea un array vacío con la misma forma y dimensiones que el array creado anteriormente. Luego, reemplaza los valores de la matriz vacía basada en los valores del primer array bajo las siguientes condiciones:\n",
    "\n",
    "   - Si el valor es igual a la mediana, se reemplaza por `\"M\"`.\n",
    "\n",
    "   - Si el valor es mayor que la mediana, se reemplaza por `\"X\"`.\n",
    "\n",
    "   - Si el valor es menor que la mediana, se reemplaza por `\"Y\"`.\n",
    "\n",
    "   - Si el valor es igual al máximo, se reemplaza por `\"MAX\"`.\n",
    "\n",
    "   - Si el valor es igual al mínimo, se reemplaza por `\"MIN\"`.\n"
   ]
  },
  {
   "cell_type": "code",
   "execution_count": null,
   "id": "d309b397",
   "metadata": {},
   "outputs": [],
   "source": []
  },
  {
   "cell_type": "markdown",
   "id": "83794704",
   "metadata": {},
   "source": [
    "#### Ejercicio 18 - Verificación de Filas y Columnas Iguales\n",
    "\n",
    "Crea un array bidimensional de dimensiones 4x4, escribe un código para determinar si alguna fila es exactamente igual a alguna columna.\n",
    "\n",
    "**Reglas:**\n",
    "\n",
    "- No puedes usar funciones predefinidas de NumPy para comparar filas y columnas (`np.array_equal`, etc.).\n",
    "\n",
    "- Debes resolverlo con estructuras básicas de Python (bucles, condicionales, etc.).\n",
    "\n",
    "- Debes revisar si hay al menos una fila que coincida exactamente con alguna columna.\n",
    "\n",
    "**Pistas**:\n",
    "\n",
    "- Puedes recorrer cada fila y cada columna de la matriz usando bucles.\n",
    "\n",
    "- Para comparar una fila con una columna, puedes hacerlo elemento por elemento."
   ]
  },
  {
   "cell_type": "code",
   "execution_count": null,
   "id": "afd51c60",
   "metadata": {},
   "outputs": [],
   "source": []
  }
 ],
 "metadata": {
  "kernelspec": {
   "display_name": "Python 3",
   "language": "python",
   "name": "python3"
  },
  "language_info": {
   "codemirror_mode": {
    "name": "ipython",
    "version": 3
   },
   "file_extension": ".py",
   "mimetype": "text/x-python",
   "name": "python",
   "nbconvert_exporter": "python",
   "pygments_lexer": "ipython3",
   "version": "3.12.5"
  }
 },
 "nbformat": 4,
 "nbformat_minor": 5
}
